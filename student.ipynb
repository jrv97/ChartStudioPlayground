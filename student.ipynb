{
 "cells": [
  {
   "cell_type": "code",
   "execution_count": 2,
   "metadata": {},
   "outputs": [
    {
     "name": "stdout",
     "output_type": "stream",
     "text": [
      "Requirement already satisfied: pandas in c:\\users\\jorge\\anaconda3\\envs\\aw\\lib\\site-packages (2.0.0)\n",
      "Requirement already satisfied: python-dateutil>=2.8.2 in c:\\users\\jorge\\anaconda3\\envs\\aw\\lib\\site-packages (from pandas) (2.8.2)\n",
      "Requirement already satisfied: pytz>=2020.1 in c:\\users\\jorge\\anaconda3\\envs\\aw\\lib\\site-packages (from pandas) (2023.3)\n",
      "Requirement already satisfied: tzdata>=2022.1 in c:\\users\\jorge\\anaconda3\\envs\\aw\\lib\\site-packages (from pandas) (2023.3)\n",
      "Requirement already satisfied: numpy>=1.21.0 in c:\\users\\jorge\\anaconda3\\envs\\aw\\lib\\site-packages (from pandas) (1.24.3)\n",
      "Requirement already satisfied: six>=1.5 in c:\\users\\jorge\\anaconda3\\envs\\aw\\lib\\site-packages (from python-dateutil>=2.8.2->pandas) (1.16.0)\n",
      "Note: you may need to restart the kernel to use updated packages.\n",
      "Requirement already satisfied: plotly==5.14.1 in c:\\users\\jorge\\anaconda3\\envs\\aw\\lib\\site-packages (5.14.1)\n",
      "Requirement already satisfied: tenacity>=6.2.0 in c:\\users\\jorge\\anaconda3\\envs\\aw\\lib\\site-packages (from plotly==5.14.1) (8.2.2)\n",
      "Requirement already satisfied: packaging in c:\\users\\jorge\\anaconda3\\envs\\aw\\lib\\site-packages (from plotly==5.14.1) (23.1)\n",
      "Note: you may need to restart the kernel to use updated packages.\n",
      "Requirement already satisfied: chart-studio==1.1.0 in c:\\users\\jorge\\anaconda3\\envs\\aw\\lib\\site-packages (1.1.0)Note: you may need to restart the kernel to use updated packages.\n",
      "\n",
      "Requirement already satisfied: plotly in c:\\users\\jorge\\anaconda3\\envs\\aw\\lib\\site-packages (from chart-studio==1.1.0) (5.14.1)\n",
      "Requirement already satisfied: requests in c:\\users\\jorge\\anaconda3\\envs\\aw\\lib\\site-packages (from chart-studio==1.1.0) (2.28.2)\n",
      "Requirement already satisfied: retrying>=1.3.3 in c:\\users\\jorge\\anaconda3\\envs\\aw\\lib\\site-packages (from chart-studio==1.1.0) (1.3.4)\n",
      "Requirement already satisfied: six in c:\\users\\jorge\\anaconda3\\envs\\aw\\lib\\site-packages (from chart-studio==1.1.0) (1.16.0)\n",
      "Requirement already satisfied: tenacity>=6.2.0 in c:\\users\\jorge\\anaconda3\\envs\\aw\\lib\\site-packages (from plotly->chart-studio==1.1.0) (8.2.2)\n",
      "Requirement already satisfied: packaging in c:\\users\\jorge\\anaconda3\\envs\\aw\\lib\\site-packages (from plotly->chart-studio==1.1.0) (23.1)\n",
      "Requirement already satisfied: charset-normalizer<4,>=2 in c:\\users\\jorge\\anaconda3\\envs\\aw\\lib\\site-packages (from requests->chart-studio==1.1.0) (3.1.0)\n",
      "Requirement already satisfied: idna<4,>=2.5 in c:\\users\\jorge\\anaconda3\\envs\\aw\\lib\\site-packages (from requests->chart-studio==1.1.0) (3.4)\n",
      "Requirement already satisfied: urllib3<1.27,>=1.21.1 in c:\\users\\jorge\\anaconda3\\envs\\aw\\lib\\site-packages (from requests->chart-studio==1.1.0) (1.26.15)\n",
      "Requirement already satisfied: certifi>=2017.4.17 in c:\\users\\jorge\\anaconda3\\envs\\aw\\lib\\site-packages (from requests->chart-studio==1.1.0) (2022.12.7)\n",
      "Requirement already satisfied: statsmodels in c:\\users\\jorge\\anaconda3\\envs\\aw\\lib\\site-packages (0.14.0)\n",
      "Requirement already satisfied: numpy>=1.18 in c:\\users\\jorge\\anaconda3\\envs\\aw\\lib\\site-packages (from statsmodels) (1.24.3)\n",
      "Requirement already satisfied: scipy!=1.9.2,>=1.4 in c:\\users\\jorge\\anaconda3\\envs\\aw\\lib\\site-packages (from statsmodels) (1.10.1)\n",
      "Requirement already satisfied: pandas>=1.0 in c:\\users\\jorge\\anaconda3\\envs\\aw\\lib\\site-packages (from statsmodels) (2.0.0)\n",
      "Requirement already satisfied: patsy>=0.5.2 in c:\\users\\jorge\\anaconda3\\envs\\aw\\lib\\site-packages (from statsmodels) (0.5.3)\n",
      "Requirement already satisfied: packaging>=21.3 in c:\\users\\jorge\\anaconda3\\envs\\aw\\lib\\site-packages (from statsmodels) (23.1)\n",
      "Requirement already satisfied: python-dateutil>=2.8.2 in c:\\users\\jorge\\anaconda3\\envs\\aw\\lib\\site-packages (from pandas>=1.0->statsmodels) (2.8.2)\n",
      "Requirement already satisfied: pytz>=2020.1 in c:\\users\\jorge\\anaconda3\\envs\\aw\\lib\\site-packages (from pandas>=1.0->statsmodels) (2023.3)\n",
      "Requirement already satisfied: tzdata>=2022.1 in c:\\users\\jorge\\anaconda3\\envs\\aw\\lib\\site-packages (from pandas>=1.0->statsmodels) (2023.3)\n",
      "Requirement already satisfied: six in c:\\users\\jorge\\anaconda3\\envs\\aw\\lib\\site-packages (from patsy>=0.5.2->statsmodels) (1.16.0)\n",
      "Note: you may need to restart the kernel to use updated packages.\n"
     ]
    }
   ],
   "source": [
    "%pip install pandas\n",
    "%pip install plotly==5.14.1\n",
    "%pip install chart-studio==1.1.0\n",
    "%pip install statsmodels\n"
   ]
  },
  {
   "cell_type": "code",
   "execution_count": 19,
   "metadata": {},
   "outputs": [],
   "source": [
    "import pandas as pd\n",
    "import plotly.express as px\n",
    "import chart_studio\n",
    "import chart_studio.plotly as py\n",
    "from config import data_path, username, api_key\n",
    "\n",
    "# Connect to ChartStudio API\n",
    "chart_studio.tools.set_credentials_file(username=username, api_key=api_key)\n",
    "\n",
    "# Load data from CSV file\n",
    "df = pd.read_csv(data_path, sep=';')\n"
   ]
  },
  {
   "cell_type": "code",
   "execution_count": 20,
   "metadata": {},
   "outputs": [
    {
     "data": {
      "text/plain": [
       "'https://plotly.com/~jdelavega/14/'"
      ]
     },
     "execution_count": 20,
     "metadata": {},
     "output_type": "execute_result"
    }
   ],
   "source": [
    "fig = px.box(df, x='studytime', y='G3', color='sex')\n",
    "\n",
    "py.plot(fig, filename='Student Final Grades Boxplots by Sex')\n"
   ]
  },
  {
   "cell_type": "code",
   "execution_count": 21,
   "metadata": {},
   "outputs": [
    {
     "name": "stdout",
     "output_type": "stream",
     "text": [
      "75\n",
      "0\n",
      "Number of absences in each category: absence_category\n",
      "Low       329\n",
      "Medium     51\n",
      "High       15\n",
      "Name: count, dtype: int64\n"
     ]
    }
   ],
   "source": [
    "df['absence_category'] = pd.cut(df['absences'], bins=[0, 10, 20, df['absences'].max(\n",
    ")], labels=['Low', 'Medium', 'High'], include_lowest=True)\n",
    "\n",
    "# Count the number of absences in each category\n",
    "absence_counts = df['absence_category'].value_counts()\n",
    "\n",
    "print(df['absences'].max())\n",
    "print(df['absences'].min())\n",
    "\n",
    "print(\"Number of absences in each category:\", absence_counts)\n"
   ]
  },
  {
   "cell_type": "code",
   "execution_count": 22,
   "metadata": {},
   "outputs": [
    {
     "data": {
      "text/plain": [
       "'https://plotly.com/~jdelavega/16/'"
      ]
     },
     "execution_count": 22,
     "metadata": {},
     "output_type": "execute_result"
    }
   ],
   "source": [
    "# Create a new column for absence categories\n",
    "df['absence_category'] = pd.cut(df['absences'], bins=[0, 10, 20, df['absences'].max(\n",
    ")], labels=['Low', 'Medium', 'High'], include_lowest=True)\n",
    "\n",
    "fig = px.scatter(df, x='studytime', y='G3', facet_col='absence_category', trendline='ols',\n",
    "                 labels={\"G3\": \"Final Grades\", \"studytime\": \"Study Time\",\n",
    "                         \"absence_category\": \"Absence Category\"},\n",
    "                 title=\"Final Grades vs Study Time for Different Absence Categories\")\n",
    "\n",
    "py.plot(fig, filename='Final Grades vs Study Time for Different Absence Categories')\n"
   ]
  },
  {
   "cell_type": "code",
   "execution_count": 23,
   "metadata": {},
   "outputs": [
    {
     "data": {
      "text/plain": [
       "'https://plotly.com/~jdelavega/18/'"
      ]
     },
     "execution_count": 23,
     "metadata": {},
     "output_type": "execute_result"
    }
   ],
   "source": [
    "# Group by 'Mjob' and 'Fjob' and calculate the mean of 'G3'\n",
    "grouped_df_mother = df.groupby('Mjob')['G3'].mean().reset_index().rename(columns={'Mjob': 'Job', 'G3': 'AverageFinalGrade'})\n",
    "grouped_df_father = df.groupby('Fjob')['G3'].mean().reset_index().rename(columns={'Fjob': 'Job', 'G3': 'AverageFinalGrade'})\n",
    "\n",
    "# Add a new column to distinguish between mother's and father's jobs\n",
    "grouped_df_mother['Parent'] = 'Mother'\n",
    "grouped_df_father['Parent'] = 'Father'\n",
    "\n",
    "# Concatenate the two dataframes\n",
    "grouped_df = pd.concat([grouped_df_mother, grouped_df_father])\n",
    "\n",
    "fig = px.bar(grouped_df, x='Job', y='AverageFinalGrade', color='Parent', barmode='group', labels={\"Job\": \"Parent's Job\", \"AverageFinalGrade\": \"Average Final Grade\"}, title=\"Average Final Grade by Parent's Job\", color_discrete_sequence=['red', 'blue'])\n",
    "\n",
    "py.plot(fig, filename='AvgFinalGrade_by_ParentJob')"
   ]
  }
 ],
 "metadata": {
  "kernelspec": {
   "display_name": "aw",
   "language": "python",
   "name": "python3"
  },
  "language_info": {
   "codemirror_mode": {
    "name": "ipython",
    "version": 3
   },
   "file_extension": ".py",
   "mimetype": "text/x-python",
   "name": "python",
   "nbconvert_exporter": "python",
   "pygments_lexer": "ipython3",
   "version": "3.11.3"
  },
  "orig_nbformat": 4
 },
 "nbformat": 4,
 "nbformat_minor": 2
}
